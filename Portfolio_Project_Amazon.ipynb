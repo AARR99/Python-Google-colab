{
  "nbformat": 4,
  "nbformat_minor": 0,
  "metadata": {
    "colab": {
      "provenance": [],
      "authorship_tag": "ABX9TyO3SBTpfUYgdCZQHWfKujw6",
      "include_colab_link": true
    },
    "kernelspec": {
      "name": "python3",
      "display_name": "Python 3"
    },
    "language_info": {
      "name": "python"
    }
  },
  "cells": [
    {
      "cell_type": "markdown",
      "metadata": {
        "id": "view-in-github",
        "colab_type": "text"
      },
      "source": [
        "<a href=\"https://colab.research.google.com/github/AARR99/Python-Google-colab/blob/main/Portfolio_Project_Amazon.ipynb\" target=\"_parent\"><img src=\"https://colab.research.google.com/assets/colab-badge.svg\" alt=\"Open In Colab\"/></a>"
      ]
    },
    {
      "cell_type": "code",
      "execution_count": null,
      "metadata": {
        "id": "9Le9OdyjRoBi"
      },
      "outputs": [],
      "source": [
        "from bs4 import BeautifulSoup\n",
        "import requests\n",
        "import time\n",
        "import datetime\n",
        "import smtplib\n",
        "import pandas as pd"
      ]
    },
    {
      "cell_type": "code",
      "source": [
        "#Website url\n",
        "URL = 'https://www.amazon.co.uk/Sony-WH-1000XM5-Cancelling-Wireless-Headphones-Black/dp/B09Y2MYL5C/ref=sr_1_3?keywords=sony+mx5&qid=1707074165&sr=8-3&ufe=app_do%3Aamzn1.fos.d7e5a2de-8759-4da3-993c-d11b6e3d217f'\n",
        "headers = {\"User-Agent\": \"Mozilla/5.0 (Windows NT 10.0; Win64; x64) AppleWebKit/537.36 (KHTML, like Gecko) Chrome/121.0.0.0 Safari/537.36\"}\n",
        "\n",
        "page = requests.get(URL, headers=headers)\n",
        "soupa = BeautifulSoup(page.content, \"html.parser\", from_encoding=\"utf-8\")\n",
        "soupa = BeautifulSoup(page.content, \"html.parser\")\n",
        "soupb = BeautifulSoup(soupa.prettify(), \"html.parser\")\n",
        "\n",
        "# Find the title\n",
        "title = soupb.find(\"span\", {\"id\": \"productTitle\"}).text.strip()\n",
        "\n",
        "# Find the price\n",
        "price = soupb.find(\"span\", attrs={\"class\":\"a-price aok-align-center reinventPricePriceToPayMargin priceToPay\"}).find(\"span\", attrs={\"class\":\"a-offscreen\"}).text.strip()\n",
        "\n",
        "print(\"Title:\", title)\n",
        "print(\"Price:\", price)"
      ],
      "metadata": {
        "id": "NeIRy-LyYLii"
      },
      "execution_count": null,
      "outputs": []
    },
    {
      "cell_type": "code",
      "source": [
        "price = price.strip()[1:]\n",
        "title = title.strip()\n",
        "\n",
        "print(title)\n",
        "print(price)"
      ],
      "metadata": {
        "id": "vB4sEKXoPfSt"
      },
      "execution_count": null,
      "outputs": []
    },
    {
      "cell_type": "code",
      "source": [
        "# Adding a timestamp to have a track on the output\n",
        "import datetime\n",
        "\n",
        "today = datetime.date.today()\n",
        "\n",
        "print(today)"
      ],
      "metadata": {
        "colab": {
          "base_uri": "https://localhost:8080/"
        },
        "id": "IZHF1RHLgCtw",
        "outputId": "cb187520-3964-4135-d008-19596e7431af"
      },
      "execution_count": null,
      "outputs": [
        {
          "output_type": "stream",
          "name": "stdout",
          "text": [
            "2024-02-04\n"
          ]
        }
      ]
    },
    {
      "cell_type": "code",
      "source": [
        "# Create CSV\n",
        "\n",
        "import csv\n",
        "\n",
        "header = ['Title', 'Price', 'Date']\n",
        "data = [title, price, today]\n",
        "\n",
        "# Write headers and data into the file\n",
        "\n",
        "with open('AmazonWebScraperDataset.csv', 'w', newline='', encoding='UTF8') as f:\n",
        "    writer = csv.writer(f)\n",
        "    writer.writerow(headers)\n",
        "    writer.writerow(data)"
      ],
      "metadata": {
        "id": "ibqZwOZfgZQa"
      },
      "execution_count": null,
      "outputs": []
    },
    {
      "cell_type": "code",
      "source": [
        "df = pd.read_csv(r'/content/AmazonWebScraperDataset.csv')\n",
        "\n",
        "print(df)"
      ],
      "metadata": {
        "id": "6U8-NSc1gpoi"
      },
      "execution_count": null,
      "outputs": []
    },
    {
      "cell_type": "code",
      "source": [
        "#Appending the csv data\n",
        "with open('AmazonWebScraperDataset.csv', 'a+', newline='', encoding='UTF8') as f:\n",
        "    writer = csv.writer(f)\n",
        "    writer.writerow(data)"
      ],
      "metadata": {
        "id": "IpmIQod2hKcj"
      },
      "execution_count": null,
      "outputs": []
    },
    {
      "cell_type": "code",
      "source": [
        "#Combine all of the above code into one function\n",
        "\n",
        "\n",
        "def check_price():\n",
        "    URL = 'https://www.amazon.co.uk/Sony-WH-1000XM5-Cancelling-Wireless-Headphones-Black/dp/B09Y2MYL5C/ref=sr_1_3?keywords=sony+mx5&qid=1707074165&sr=8-3&ufe=app_do%3Aamzn1.fos.d7e5a2de-8759-4da3-993c-d11b6e3d217f'\n",
        "    headers = {\"User-Agent\": \"Mozilla/5.0 (Windows NT 10.0; Win64; x64) AppleWebKit/537.36 (KHTML, like Gecko) Chrome/121.0.0.0 Safari/537.36\"}\n",
        "\n",
        "    page = requests.get(URL, headers=headers)\n",
        "    soupa = BeautifulSoup(page.content, \"html.parser\", from_encoding=\"utf-8\")\n",
        "    soupa = BeautifulSoup(page.content, \"html.parser\")\n",
        "    soupb = BeautifulSoup(soupa.prettify(), \"html.parser\")\n",
        "\n",
        "  # Find the title\n",
        "    title = soupb.find(\"span\", {\"id\": \"productTitle\"}).text.strip()\n",
        "\n",
        "  # Find the price\n",
        "    price = soupb.find(\"span\", attrs={\"class\":\"a-price aok-align-center reinventPricePriceToPayMargin priceToPay\"}).find(\"span\", attrs={\"class\":\"a-offscreen\"}).text.strip()\n",
        "\n",
        "    print(\"Title:\", title)\n",
        "    print(\"Price:\", price)\n",
        "\n",
        "    price = price.strip()[1:]\n",
        "    title = title.strip()\n",
        "\n",
        "    import datetime\n",
        "\n",
        "    today = datetime.date.today()\n",
        "\n",
        "    import csv\n",
        "\n",
        "    header = ['Title', 'Price', 'Date']\n",
        "    data = [title, price, today]\n",
        "\n",
        "    with open('AmazonWebScraperDataset.csv', 'a+', newline='', encoding='UTF8') as f:\n",
        "        writer = csv.writer(f)\n",
        "        writer.writerow(data)"
      ],
      "metadata": {
        "id": "4zPc3mvbierf"
      },
      "execution_count": null,
      "outputs": []
    },
    {
      "cell_type": "code",
      "source": [
        "while(True):\n",
        "    check_price()\n",
        "    time.sleep(86400) #Checking the price everyday 86400(seconds) = 24 hours"
      ],
      "metadata": {
        "id": "vPcVP4c3hNzV"
      },
      "execution_count": null,
      "outputs": []
    },
    {
      "cell_type": "code",
      "source": [
        "import pandas as pd\n",
        "\n",
        "df = pd.read_csv(r'/content/AmazonWebScraperDataset.csv')\n",
        "\n",
        "print(df)"
      ],
      "metadata": {
        "id": "wEQF_7-fhni3"
      },
      "execution_count": null,
      "outputs": []
    }
  ]
}